{
 "cells": [
  {
   "cell_type": "code",
   "execution_count": 1,
   "metadata": {},
   "outputs": [],
   "source": [
    "# dependencies\n",
    "from sympy import solve, sqrt, symbols"
   ]
  },
  {
   "cell_type": "code",
   "execution_count": 2,
   "metadata": {},
   "outputs": [],
   "source": [
    "# parameters\n",
    "Delta_q, Delta_1, Delta_2, g_1, g_2, Omega = symbols('\\Delta_{q} \\Delta_{1} \\Delta_{2} g_{1} g_{2} \\Omega', complex=True)\n",
    "# coefficients\n",
    "C_10g, C_20g, C_01g, C_11g, C_02g, C_00e, C_10e, C_01e = symbols('C_{10g}, C_{20g}, C_{01g}, C_{11g}, C_{02g}, C_{00e}, C_{10e}, C_{01e}', complex=True)"
   ]
  },
  {
   "attachments": {},
   "cell_type": "markdown",
   "metadata": {},
   "source": [
    "## Steady State Equations"
   ]
  },
  {
   "cell_type": "code",
   "execution_count": 3,
   "metadata": {},
   "outputs": [],
   "source": [
    "# steady state expressions\n",
    "expr_b = Delta_1 * C_10g + g_1 * C_00e + Omega + sqrt(2) * Omega * C_20g\n",
    "expr_c = Delta_q * C_00e + g_1 * C_10g + g_2 * C_01g + Omega * C_10e\n",
    "expr_d = Delta_2 * C_01g + g_2 * C_00e + Omega * C_11g\n",
    "expr_e = 2 * Delta_1 * C_20g + sqrt(2) * g_1 * C_10e + sqrt(2) * Omega * C_10g\n",
    "expr_f = (Delta_1 + Delta_q) * C_10e + sqrt(2) * g_1 * C_20g + g_2 * C_11g + Omega * C_00e\n",
    "expr_g = (Delta_1 + Delta_2) * C_11g + g_2 * C_10e + g_1 * C_01e + Omega * C_01g\n",
    "expr_h = (Delta_2 + Delta_q) * C_01e + sqrt(2) * g_2 * C_02g + g_1 * C_11g\n",
    "expr_i = 2 * Delta_2 * C_02g + sqrt(2) * g_2 * C_01e"
   ]
  },
  {
   "cell_type": "code",
   "execution_count": 4,
   "metadata": {},
   "outputs": [
    {
     "data": {
      "text/latex": [
       "$\\displaystyle - \\frac{\\sqrt{2} C_{01e} g_{2}}{2 \\Delta_{2}}$"
      ],
      "text/plain": [
       "-sqrt(2)*C_{01e}*g_{2}/(2*\\Delta_{2})"
      ]
     },
     "execution_count": 4,
     "metadata": {},
     "output_type": "execute_result"
    }
   ],
   "source": [
    "# expression i\n",
    "expr_C_02g = (- expr_i / 2 / Delta_2).expand() + C_02g\n",
    "expr_C_02g\n"
   ]
  },
  {
   "cell_type": "code",
   "execution_count": 5,
   "metadata": {},
   "outputs": [
    {
     "data": {
      "text/latex": [
       "$\\displaystyle - \\frac{C_{11g} g_{1}}{\\Delta_{2}^{\\prime}}$"
      ],
      "text/plain": [
       "-C_{11g}*g_{1}/\\Delta_{2}^{\\prime}"
      ]
     },
     "execution_count": 5,
     "metadata": {},
     "output_type": "execute_result"
    }
   ],
   "source": [
    "# delta 2 prime\n",
    "expr_Delta_2_prime = Delta_2 + Delta_q - g_2**2 / Delta_2\n",
    "Delta_2_prime = symbols('\\Delta_{2}^{\\prime}', complex=True)\n",
    "# expression h\n",
    "expr_C_01e = (- expr_h.subs(C_02g, expr_C_02g).collect(C_01e).subs(expr_Delta_2_prime, Delta_2_prime) / Delta_2_prime).expand() + C_01e\n",
    "expr_C_01e"
   ]
  },
  {
   "cell_type": "code",
   "execution_count": 6,
   "metadata": {},
   "outputs": [
    {
     "data": {
      "text/latex": [
       "$\\displaystyle - \\frac{C_{10g} \\Omega}{g_{1}} - \\frac{\\sqrt{2} C_{20g} \\Delta_{1}}{g_{1}}$"
      ],
      "text/plain": [
       "-C_{10g}*\\Omega/g_{1} - sqrt(2)*C_{20g}*\\Delta_{1}/g_{1}"
      ]
     },
     "execution_count": 6,
     "metadata": {},
     "output_type": "execute_result"
    }
   ],
   "source": [
    "# expression e\n",
    "expr_C_10e = (- expr_e / sqrt(2) / g_1).expand() + C_10e\n",
    "expr_C_10e"
   ]
  },
  {
   "cell_type": "code",
   "execution_count": 7,
   "metadata": {},
   "outputs": [
    {
     "data": {
      "text/latex": [
       "$\\displaystyle - \\frac{C_{10g} \\Delta_{1}}{g_{1}} - \\frac{\\sqrt{2} C_{20g} \\Omega}{g_{1}} - \\frac{\\Omega}{g_{1}}$"
      ],
      "text/plain": [
       "-C_{10g}*\\Delta_{1}/g_{1} - sqrt(2)*C_{20g}*\\Omega/g_{1} - \\Omega/g_{1}"
      ]
     },
     "execution_count": 7,
     "metadata": {},
     "output_type": "execute_result"
    }
   ],
   "source": [
    "# expression b\n",
    "expr_C_00e = (- expr_b / g_1).expand() + C_00e\n",
    "expr_C_00e"
   ]
  },
  {
   "cell_type": "code",
   "execution_count": 8,
   "metadata": {},
   "outputs": [
    {
     "data": {
      "text/latex": [
       "$\\displaystyle - \\frac{C_{01g} \\Delta_{2}}{g_{2}} - \\frac{C_{11g} \\Omega}{g_{2}}$"
      ],
      "text/plain": [
       "-C_{01g}*\\Delta_{2}/g_{2} - C_{11g}*\\Omega/g_{2}"
      ]
     },
     "execution_count": 8,
     "metadata": {},
     "output_type": "execute_result"
    }
   ],
   "source": [
    "# expression d\n",
    "expr_C_00e_alt = (- expr_d / g_2).expand() + C_00e\n",
    "expr_C_00e_alt"
   ]
  },
  {
   "cell_type": "code",
   "execution_count": 9,
   "metadata": {},
   "outputs": [
    {
     "data": {
      "text/latex": [
       "$\\displaystyle \\frac{C_{10g} \\Delta_{1} \\tilde{\\Delta}_{1}}{g_{1} g_{2}} + \\frac{\\sqrt{2} C_{20g} \\Omega \\left(\\Delta_{1} + \\Delta_{q}\\right)}{g_{1} g_{2}} + \\frac{\\Delta_{q} \\Omega}{g_{1} g_{2}}$"
      ],
      "text/plain": [
       "C_{10g}*\\Delta_{1}*\\tilde{\\Delta}_{1}/(g_{1}*g_{2}) + sqrt(2)*C_{20g}*\\Omega*(\\Delta_{1} + \\Delta_{q})/(g_{1}*g_{2}) + \\Delta_{q}*\\Omega/(g_{1}*g_{2})"
      ]
     },
     "execution_count": 9,
     "metadata": {},
     "output_type": "execute_result"
    }
   ],
   "source": [
    "# delta 1 tilde\n",
    "expr_Delta_1_tilde = Delta_q + Omega**2 / Delta_1 - g_1**2 / Delta_1\n",
    "Delta_1_tilde = symbols('\\\\tilde{\\Delta}_{1}', complex=True)\n",
    "# expression c\n",
    "expr_C_01g = ((- expr_c / g_2).expand() + C_01g).subs(C_00e, expr_C_00e).subs(C_10e, expr_C_10e).expand()\n",
    "expr_C_01g = expr_C_01g.subs(Delta_1 * Delta_q, Delta_1 * Delta_1_tilde - Omega**2 + g_1**2).expand().collect([C_10g / g_1 / g_2, C_20g * sqrt(2) * Omega / g_1 / g_2])\n",
    "expr_C_01g"
   ]
  },
  {
   "cell_type": "code",
   "execution_count": 10,
   "metadata": {},
   "outputs": [
    {
     "data": {
      "text/latex": [
       "$\\displaystyle \\frac{C_{10g} \\Omega \\left(2 \\Delta_{1} + \\Delta_{q}\\right)}{g_{1} g_{2}} + \\frac{\\sqrt{2} C_{20g} \\left(\\Delta_{1}^{2} + \\Delta_{1} \\tilde{\\Delta}_{1}\\right)}{g_{1} g_{2}} + \\frac{\\Omega^{2}}{g_{1} g_{2}}$"
      ],
      "text/plain": [
       "C_{10g}*\\Omega*(2*\\Delta_{1} + \\Delta_{q})/(g_{1}*g_{2}) + sqrt(2)*C_{20g}*(\\Delta_{1}**2 + \\Delta_{1}*\\tilde{\\Delta}_{1})/(g_{1}*g_{2}) + \\Omega**2/(g_{1}*g_{2})"
      ]
     },
     "execution_count": 10,
     "metadata": {},
     "output_type": "execute_result"
    }
   ],
   "source": [
    "# expression f\n",
    "expr_C_11g = ((- expr_f / g_2).expand() + C_11g).subs(C_10e, expr_C_10e).subs(C_00e, expr_C_00e).expand()\n",
    "expr_C_11g = expr_C_11g.subs(Delta_1 * Delta_q, Delta_1 * Delta_1_tilde - Omega**2 + g_1**2).expand().collect([C_10g * Omega / g_1 / g_2, sqrt(2) * C_20g / g_1 / g_2])\n",
    "expr_C_11g"
   ]
  },
  {
   "attachments": {},
   "cell_type": "markdown",
   "metadata": {},
   "source": [
    "## First Linear Equation"
   ]
  },
  {
   "cell_type": "code",
   "execution_count": 11,
   "metadata": {},
   "outputs": [
    {
     "data": {
      "text/latex": [
       "$\\displaystyle C_{10g} \\left(\\Delta_{1} \\Delta_{2} \\tilde{\\Delta}_{2} - \\Delta_{2} g_{1}^{2} + \\Delta_{s} \\Omega^{2}\\right) + \\sqrt{2} C_{20g} \\Omega \\left(\\Delta_{1} \\Delta_{s} + \\Delta_{2} \\tilde{\\Delta}_{2} - g_{1}^{2}\\right) + \\Delta_{2} \\Omega \\tilde{\\Delta}_{2}$"
      ],
      "text/plain": [
       "C_{10g}*(\\Delta_{1}*\\Delta_{2}*\\tilde{\\Delta}_{2} - \\Delta_{2}*g_{1}**2 + \\Delta_{s}*\\Omega**2) + sqrt(2)*C_{20g}*\\Omega*(\\Delta_{1}*\\Delta_{s} + \\Delta_{2}*\\tilde{\\Delta}_{2} - g_{1}**2) + \\Delta_{2}*\\Omega*\\tilde{\\Delta}_{2}"
      ]
     },
     "execution_count": 11,
     "metadata": {},
     "output_type": "execute_result"
    }
   ],
   "source": [
    "# delta 2 tilde and delta s\n",
    "expr_Delta_2_tilde = Delta_q + Omega**2 / Delta_2 - g_1**2 / Delta_2\n",
    "expr_Delta_s = Delta_q + Delta_1 + Delta_2\n",
    "Delta_2_tilde = symbols('\\\\tilde{\\Delta}_{2}', complex=True)\n",
    "Delta_s = symbols('\\Delta_{s}', complex=True)\n",
    "# equating coefficients C_00e\n",
    "expr_1 = ((expr_C_00e - expr_C_00e_alt) * g_1 * g_2**2).subs(C_01g, expr_C_01g).subs(C_11g, expr_C_11g).subs(Delta_1_tilde, expr_Delta_1_tilde).expand()\n",
    "expr_1 = expr_1.subs(Delta_2 * Delta_q, Delta_2 * Delta_2_tilde - Omega**2 + g_2**2).expand()\n",
    "expr_1 = expr_1.subs(Delta_q, Delta_s - Delta_1 - Delta_2).expand().collect([C_10g, sqrt(2) * C_20g * Omega])\n",
    "expr_1"
   ]
  },
  {
   "cell_type": "code",
   "execution_count": 12,
   "metadata": {},
   "outputs": [],
   "source": [
    "expr_A_1, expr_A_2 = expr_1.coeff(C_10g), expr_1.coeff(C_20g)\n",
    "expr_A_0 = (expr_1 - expr_A_1 * C_10g - expr_A_2 * C_20g).expand()"
   ]
  },
  {
   "cell_type": "code",
   "execution_count": 13,
   "metadata": {},
   "outputs": [
    {
     "data": {
      "text/latex": [
       "$\\displaystyle \\Delta_{2} \\Omega \\tilde{\\Delta}_{2}$"
      ],
      "text/plain": [
       "\\Delta_{2}*\\Omega*\\tilde{\\Delta}_{2}"
      ]
     },
     "execution_count": 13,
     "metadata": {},
     "output_type": "execute_result"
    }
   ],
   "source": [
    "expr_A_0"
   ]
  },
  {
   "cell_type": "code",
   "execution_count": 14,
   "metadata": {},
   "outputs": [
    {
     "data": {
      "text/latex": [
       "$\\displaystyle \\Delta_{1} \\Delta_{2} \\tilde{\\Delta}_{2} - \\Delta_{2} g_{1}^{2} + \\Delta_{s} \\Omega^{2}$"
      ],
      "text/plain": [
       "\\Delta_{1}*\\Delta_{2}*\\tilde{\\Delta}_{2} - \\Delta_{2}*g_{1}**2 + \\Delta_{s}*\\Omega**2"
      ]
     },
     "execution_count": 14,
     "metadata": {},
     "output_type": "execute_result"
    }
   ],
   "source": [
    "expr_A_1"
   ]
  },
  {
   "cell_type": "code",
   "execution_count": 15,
   "metadata": {},
   "outputs": [
    {
     "data": {
      "text/latex": [
       "$\\displaystyle \\sqrt{2} \\Omega \\left(\\Delta_{1} \\Delta_{s} + \\Delta_{2} \\tilde{\\Delta}_{2} - g_{1}^{2}\\right)$"
      ],
      "text/plain": [
       "sqrt(2)*\\Omega*(\\Delta_{1}*\\Delta_{s} + \\Delta_{2}*\\tilde{\\Delta}_{2} - g_{1}**2)"
      ]
     },
     "execution_count": 15,
     "metadata": {},
     "output_type": "execute_result"
    }
   ],
   "source": [
    "expr_A_2"
   ]
  },
  {
   "attachments": {},
   "cell_type": "markdown",
   "metadata": {},
   "source": [
    "## Second Linear Equation"
   ]
  },
  {
   "cell_type": "code",
   "execution_count": 16,
   "metadata": {},
   "outputs": [
    {
     "data": {
      "text/latex": [
       "$\\displaystyle C_{10g} \\Omega \\left(2 \\Delta_{1}^{2} \\Delta_{2}^{\\prime} + 2 \\Delta_{1} \\Delta_{2} \\Delta_{2}^{\\prime} + \\Delta_{1} \\Delta_{2}^{\\prime} \\Delta_{q} + \\Delta_{1} \\Delta_{2}^{\\prime} \\tilde{\\Delta}_{1} - 2 \\Delta_{1} g_{1}^{2} + \\Delta_{2} \\Delta_{2}^{\\prime} \\Delta_{q} - \\Delta_{2}^{\\prime} g_{2}^{2} - \\Delta_{q} g_{1}^{2}\\right) + \\sqrt{2} C_{20g} \\left(\\Delta_{1}^{3} \\Delta_{2}^{\\prime} + \\Delta_{1}^{2} \\Delta_{2} \\Delta_{2}^{\\prime} + \\Delta_{1}^{2} \\Delta_{2}^{\\prime} \\tilde{\\Delta}_{1} - \\Delta_{1}^{2} g_{1}^{2} + \\Delta_{1} \\Delta_{2} \\Delta_{2}^{\\prime} \\tilde{\\Delta}_{1} + \\Delta_{1} \\Delta_{2}^{\\prime} \\Omega^{2} - \\Delta_{1} \\Delta_{2}^{\\prime} g_{2}^{2} - \\Delta_{1} \\tilde{\\Delta}_{1} g_{1}^{2} + \\Delta_{2}^{\\prime} \\Delta_{q} \\Omega^{2}\\right) + \\Delta_{1} \\Delta_{2}^{\\prime} \\Omega^{2} + \\Delta_{2} \\Delta_{2}^{\\prime} \\Omega^{2} + \\Delta_{2}^{\\prime} \\Delta_{q} \\Omega^{2} - \\Omega^{2} g_{1}^{2}$"
      ],
      "text/plain": [
       "C_{10g}*\\Omega*(2*\\Delta_{1}**2*\\Delta_{2}^{\\prime} + 2*\\Delta_{1}*\\Delta_{2}*\\Delta_{2}^{\\prime} + \\Delta_{1}*\\Delta_{2}^{\\prime}*\\Delta_{q} + \\Delta_{1}*\\Delta_{2}^{\\prime}*\\tilde{\\Delta}_{1} - 2*\\Delta_{1}*g_{1}**2 + \\Delta_{2}*\\Delta_{2}^{\\prime}*\\Delta_{q} - \\Delta_{2}^{\\prime}*g_{2}**2 - \\Delta_{q}*g_{1}**2) + sqrt(2)*C_{20g}*(\\Delta_{1}**3*\\Delta_{2}^{\\prime} + \\Delta_{1}**2*\\Delta_{2}*\\Delta_{2}^{\\prime} + \\Delta_{1}**2*\\Delta_{2}^{\\prime}*\\tilde{\\Delta}_{1} - \\Delta_{1}**2*g_{1}**2 + \\Delta_{1}*\\Delta_{2}*\\Delta_{2}^{\\prime}*\\tilde{\\Delta}_{1} + \\Delta_{1}*\\Delta_{2}^{\\prime}*\\Omega**2 - \\Delta_{1}*\\Delta_{2}^{\\prime}*g_{2}**2 - \\Delta_{1}*\\tilde{\\Delta}_{1}*g_{1}**2 + \\Delta_{2}^{\\prime}*\\Delta_{q}*\\Omega**2) + \\Delta_{1}*\\Delta_{2}^{\\prime}*\\Omega**2 + \\Delta_{2}*\\Delta_{2}^{\\prime}*\\Omega**2 + \\Delta_{2}^{\\prime}*\\Delta_{q}*\\Omega**2 - \\Omega**2*g_{1}**2"
      ]
     },
     "execution_count": 16,
     "metadata": {},
     "output_type": "execute_result"
    }
   ],
   "source": [
    "# expression g\n",
    "expr_2 = (expr_g * g_1 * g_2 * Delta_2_prime).subs(C_01e, expr_C_01e).subs(C_10e, expr_C_10e).subs(C_01g, expr_C_01g).subs(C_11g, expr_C_11g).expand()\n",
    "expr_2 = expr_2.collect([C_10g * Omega, sqrt(2) * C_20g])\n",
    "expr_2"
   ]
  },
  {
   "cell_type": "code",
   "execution_count": 17,
   "metadata": {},
   "outputs": [],
   "source": [
    "expr_B_1, expr_B_2 = expr_2.coeff(C_10g), expr_2.coeff(C_20g)\n",
    "expr_B_0 = (expr_2 - expr_B_1 * C_10g - expr_B_2 * C_20g).expand()"
   ]
  },
  {
   "cell_type": "code",
   "execution_count": 18,
   "metadata": {},
   "outputs": [
    {
     "data": {
      "text/latex": [
       "$\\displaystyle \\Omega^{2} \\left(\\Delta_{2}^{\\prime} \\Delta_{s} - g_{1}^{2}\\right)$"
      ],
      "text/plain": [
       "\\Omega**2*(\\Delta_{2}^{\\prime}*\\Delta_{s} - g_{1}**2)"
      ]
     },
     "execution_count": 18,
     "metadata": {},
     "output_type": "execute_result"
    }
   ],
   "source": [
    "expr_B_0_simplified = expr_B_0.subs(Delta_q, Delta_s - Delta_1 - Delta_2).expand().collect(Omega)\n",
    "expr_B_0_simplified"
   ]
  },
  {
   "cell_type": "code",
   "execution_count": 19,
   "metadata": {},
   "outputs": [
    {
     "data": {
      "text/latex": [
       "$\\displaystyle \\Omega \\left(2 \\Delta_{1} \\left(\\Delta_{2}^{\\prime} \\Delta_{s} - g_{1}^{2}\\right) + \\Delta_{2}^{\\prime} \\left(\\Delta_{2} \\tilde{\\Delta}_{2} - g_{1}^{2}\\right) - \\Delta_{q} g_{1}^{2}\\right)$"
      ],
      "text/plain": [
       "\\Omega*(2*\\Delta_{1}*(\\Delta_{2}^{\\prime}*\\Delta_{s} - g_{1}**2) + \\Delta_{2}^{\\prime}*(\\Delta_{2}*\\tilde{\\Delta}_{2} - g_{1}**2) - \\Delta_{q}*g_{1}**2)"
      ]
     },
     "execution_count": 19,
     "metadata": {},
     "output_type": "execute_result"
    }
   ],
   "source": [
    "expr_B_1_simplified = expr_B_1.subs(Delta_1_tilde, expr_Delta_1_tilde).expand().collect([2 * Delta_1, Delta_2_prime])\n",
    "expr_B_1_simplified = expr_B_1_simplified.subs(Delta_2 * Delta_q, Delta_2 * Delta_2_tilde - Omega**2 + g_2**2).subs(Delta_2_prime * Delta_q, Delta_2_prime * (Delta_s - Delta_1 - Delta_2)).expand().collect([2 * Delta_1 * Omega, Delta_2_prime * Omega]).collect(Omega)\n",
    "expr_B_1_simplified"
   ]
  },
  {
   "cell_type": "code",
   "execution_count": 20,
   "metadata": {},
   "outputs": [
    {
     "data": {
      "text/latex": [
       "$\\displaystyle \\sqrt{2} \\left(\\Delta_{2}^{\\prime} \\left(- \\Delta_{1} g_{2}^{2} + \\Omega^{2} \\left(\\Delta_{1} + \\Delta_{q}\\right)\\right) + \\left(\\Delta_{1}^{2} + \\Delta_{1} \\tilde{\\Delta}_{1}\\right) \\left(\\Delta_{2}^{\\prime} \\left(\\Delta_{1} + \\Delta_{2}\\right) - g_{1}^{2}\\right)\\right)$"
      ],
      "text/plain": [
       "sqrt(2)*(\\Delta_{2}^{\\prime}*(-\\Delta_{1}*g_{2}**2 + \\Omega**2*(\\Delta_{1} + \\Delta_{q})) + (\\Delta_{1}**2 + \\Delta_{1}*\\tilde{\\Delta}_{1})*(\\Delta_{2}^{\\prime}*(\\Delta_{1} + \\Delta_{2}) - g_{1}**2))"
      ]
     },
     "execution_count": 20,
     "metadata": {},
     "output_type": "execute_result"
    }
   ],
   "source": [
    "expr_B_2_simplified = expr_B_2.collect([Delta_1 * Delta_1_tilde, Omega**2 * Delta_2_prime]).collect([Delta_2_prime, Delta_1**2 * Delta_2_prime]).collect(Delta_1**2)\n",
    "expr_B_2_simplified = expr_B_2_simplified.collect(Delta_2_prime * (Delta_1 + Delta_2) - g_1**2)\n",
    "expr_B_2_simplified"
   ]
  },
  {
   "attachments": {},
   "cell_type": "markdown",
   "metadata": {},
   "source": [
    "## Solution"
   ]
  },
  {
   "cell_type": "code",
   "execution_count": 21,
   "metadata": {},
   "outputs": [],
   "source": [
    "A_0, A_1, A_2, B_0, B_1, B_2 = symbols('A_{0}, A_{1}, A_{2}, B_{0}, B_{1}, B_{2}', complex=True)\n",
    "sols = solve([A_0 + A_1 * C_10g + A_2 * C_20g, B_0 + B_1 * C_10g + B_2 * C_20g], [C_10g, C_20g])"
   ]
  },
  {
   "cell_type": "code",
   "execution_count": 22,
   "metadata": {},
   "outputs": [
    {
     "data": {
      "text/latex": [
       "$\\displaystyle \\frac{- A_{0} B_{2} + A_{2} B_{0}}{A_{1} B_{2} - A_{2} B_{1}}$"
      ],
      "text/plain": [
       "(-A_{0}*B_{2} + A_{2}*B_{0})/(A_{1}*B_{2} - A_{2}*B_{1})"
      ]
     },
     "execution_count": 22,
     "metadata": {},
     "output_type": "execute_result"
    }
   ],
   "source": [
    "sols[C_10g]"
   ]
  },
  {
   "cell_type": "code",
   "execution_count": 23,
   "metadata": {},
   "outputs": [
    {
     "data": {
      "text/latex": [
       "$\\displaystyle \\frac{A_{0} B_{1} - A_{1} B_{0}}{A_{1} B_{2} - A_{2} B_{1}}$"
      ],
      "text/plain": [
       "(A_{0}*B_{1} - A_{1}*B_{0})/(A_{1}*B_{2} - A_{2}*B_{1})"
      ]
     },
     "execution_count": 23,
     "metadata": {},
     "output_type": "execute_result"
    }
   ],
   "source": [
    "sols[C_20g]"
   ]
  },
  {
   "attachments": {},
   "cell_type": "markdown",
   "metadata": {},
   "source": [
    "## Blockade Condition"
   ]
  },
  {
   "cell_type": "code",
   "execution_count": 24,
   "metadata": {},
   "outputs": [
    {
     "data": {
      "text/latex": [
       "$\\displaystyle \\Delta_{2} \\tilde{\\Delta}_{2} \\cdot \\left(2 \\Delta_{1} \\left(\\Delta_{2}^{\\prime} \\Delta_{s} - g_{1}^{2}\\right) + \\Delta_{2}^{\\prime} \\left(\\Delta_{2} \\tilde{\\Delta}_{2} - g_{1}^{2}\\right) - \\Delta_{q} g_{1}^{2}\\right) - \\left(\\Delta_{2}^{\\prime} \\Delta_{s} - g_{1}^{2}\\right) \\left(\\Delta_{1} \\Delta_{2} \\tilde{\\Delta}_{2} - \\Delta_{2} g_{1}^{2} + \\Delta_{s} \\Omega^{2}\\right)$"
      ],
      "text/plain": [
       "\\Delta_{2}*\\tilde{\\Delta}_{2}*(2*\\Delta_{1}*(\\Delta_{2}^{\\prime}*\\Delta_{s} - g_{1}**2) + \\Delta_{2}^{\\prime}*(\\Delta_{2}*\\tilde{\\Delta}_{2} - g_{1}**2) - \\Delta_{q}*g_{1}**2) - (\\Delta_{2}^{\\prime}*\\Delta_{s} - g_{1}**2)*(\\Delta_{1}*\\Delta_{2}*\\tilde{\\Delta}_{2} - \\Delta_{2}*g_{1}**2 + \\Delta_{s}*\\Omega**2)"
      ]
     },
     "execution_count": 24,
     "metadata": {},
     "output_type": "execute_result"
    }
   ],
   "source": [
    "expr_condition = ((expr_A_0 * expr_B_1_simplified - expr_A_1 * expr_B_0_simplified).collect(Omega**2) / Omega**2)\n",
    "expr_condition"
   ]
  },
  {
   "cell_type": "code",
   "execution_count": 25,
   "metadata": {},
   "outputs": [
    {
     "data": {
      "text/latex": [
       "$\\displaystyle \\Delta_{2}^{2} \\Delta_{2}^{\\prime} \\tilde{\\Delta}_{2}^{2} - \\Delta_{2} \\tilde{\\Delta}_{2} g_{1}^{2} \\left(\\Delta_{2}^{\\prime} + \\Delta_{q}\\right) + \\left(\\Delta_{2}^{\\prime} \\Delta_{s} - g_{1}^{2}\\right) \\left(\\Delta_{1} \\Delta_{2} \\tilde{\\Delta}_{2} + \\Delta_{2} g_{1}^{2} - \\Delta_{s} \\Omega^{2}\\right)$"
      ],
      "text/plain": [
       "\\Delta_{2}**2*\\Delta_{2}^{\\prime}*\\tilde{\\Delta}_{2}**2 - \\Delta_{2}*\\tilde{\\Delta}_{2}*g_{1}**2*(\\Delta_{2}^{\\prime} + \\Delta_{q}) + (\\Delta_{2}^{\\prime}*\\Delta_{s} - g_{1}**2)*(\\Delta_{1}*\\Delta_{2}*\\tilde{\\Delta}_{2} + \\Delta_{2}*g_{1}**2 - \\Delta_{s}*\\Omega**2)"
      ]
     },
     "execution_count": 25,
     "metadata": {},
     "output_type": "execute_result"
    }
   ],
   "source": [
    "expr_condition_simplified = expr_condition.expand().collect([Delta_1 * Delta_2 * Delta_2_tilde, Omega**2 * Delta_s]).collect(Delta_2 * Delta_2_tilde * g_1**2).simplify()\n",
    "expr_condition_simplified = expr_condition_simplified.subs(g_1**2 * Delta_2 * Delta_2_prime * Delta_s - Delta_2 * g_1**4, g_1**2 * Delta_2 * (Delta_2_prime * Delta_s - g_1**2)).collect(Delta_2_prime * Delta_s - g_1**2).collect(Delta_2 * Delta_2_tilde)\n",
    "expr_condition_simplified"
   ]
  }
 ],
 "metadata": {
  "kernelspec": {
   "display_name": "base",
   "language": "python",
   "name": "python3"
  },
  "language_info": {
   "codemirror_mode": {
    "name": "ipython",
    "version": 3
   },
   "file_extension": ".py",
   "mimetype": "text/x-python",
   "name": "python",
   "nbconvert_exporter": "python",
   "pygments_lexer": "ipython3",
   "version": "3.8.12"
  },
  "orig_nbformat": 4
 },
 "nbformat": 4,
 "nbformat_minor": 2
}
